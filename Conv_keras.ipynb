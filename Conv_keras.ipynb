{
 "cells": [
  {
   "cell_type": "code",
   "execution_count": 5,
   "id": "f76089e9-e0df-476f-9c62-fa78b3473711",
   "metadata": {},
   "outputs": [],
   "source": [
    "import numpy as np\n",
    "from tensorflow import keras\n",
    "from tensorflow.keras import layers"
   ]
  },
  {
   "cell_type": "markdown",
   "id": "b00d03a7-e4d1-4191-818e-056b5dd9349e",
   "metadata": {},
   "source": [
    "# 10 NEURONS"
   ]
  },
  {
   "cell_type": "code",
   "execution_count": 3,
   "id": "e9b53bb7-2a69-48b3-a9be-d3e839987b9c",
   "metadata": {},
   "outputs": [
    {
     "name": "stdout",
     "output_type": "stream",
     "text": [
      "x_train shape: (60000, 28, 28, 1)\n",
      "60000 train samples\n",
      "10000 test samples\n"
     ]
    }
   ],
   "source": [
    "# Model / data parameters\n",
    "num_classes = 10\n",
    "input_shape = (28, 28, 1)\n",
    "\n",
    "# Load the data and split it between train and test sets\n",
    "(x_train, y_train), (x_test, y_test) = keras.datasets.mnist.load_data()\n",
    "\n",
    "# Scale images to the [0, 1] range\n",
    "x_train = x_train.astype(\"float32\") / 255\n",
    "x_test = x_test.astype(\"float32\") / 255\n",
    "# Make sure images have shape (28, 28, 1)\n",
    "x_train = np.expand_dims(x_train, -1)\n",
    "x_test = np.expand_dims(x_test, -1)\n",
    "print(\"x_train shape:\", x_train.shape)\n",
    "print(x_train.shape[0], \"train samples\")\n",
    "print(x_test.shape[0], \"test samples\")\n",
    "\n",
    "\n",
    "# convert class vectors to binary class matrices\n",
    "y_train = keras.utils.to_categorical(y_train, num_classes)\n",
    "original_y_test = y_test.copy()\n",
    "y_test = keras.utils.to_categorical(y_test, num_classes)"
   ]
  },
  {
   "cell_type": "code",
   "execution_count": 4,
   "id": "f0cf07bd-9b33-4e9a-b9c9-c836c6bb0ecc",
   "metadata": {},
   "outputs": [
    {
     "name": "stdout",
     "output_type": "stream",
     "text": [
      "Model: \"sequential\"\n",
      "_________________________________________________________________\n",
      " Layer (type)                Output Shape              Param #   \n",
      "=================================================================\n",
      " conv2d (Conv2D)             (None, 26, 26, 32)        320       \n",
      "                                                                 \n",
      " max_pooling2d (MaxPooling2D  (None, 13, 13, 32)       0         \n",
      " )                                                               \n",
      "                                                                 \n",
      " conv2d_1 (Conv2D)           (None, 11, 11, 64)        18496     \n",
      "                                                                 \n",
      " max_pooling2d_1 (MaxPooling  (None, 5, 5, 64)         0         \n",
      " 2D)                                                             \n",
      "                                                                 \n",
      " flatten (Flatten)           (None, 1600)              0         \n",
      "                                                                 \n",
      " dropout (Dropout)           (None, 1600)              0         \n",
      "                                                                 \n",
      " dense (Dense)               (None, 10)                16010     \n",
      "                                                                 \n",
      "=================================================================\n",
      "Total params: 34,826\n",
      "Trainable params: 34,826\n",
      "Non-trainable params: 0\n",
      "_________________________________________________________________\n"
     ]
    }
   ],
   "source": [
    "model_10 = keras.Sequential(\n",
    "    [\n",
    "        keras.Input(shape=input_shape),\n",
    "        layers.Conv2D(32, kernel_size=(3, 3), activation=\"relu\"),\n",
    "        layers.MaxPooling2D(pool_size=(2, 2)),\n",
    "        layers.Conv2D(64, kernel_size=(3, 3), activation=\"relu\"),\n",
    "        layers.MaxPooling2D(pool_size=(2, 2)),\n",
    "        layers.Flatten(),\n",
    "        layers.Dropout(0.5),\n",
    "        layers.Dense(10, activation=\"sigmoid\"),\n",
    "    ]\n",
    ")\n",
    "\n",
    "model_10.summary()"
   ]
  },
  {
   "cell_type": "code",
   "execution_count": 205,
   "id": "48e48833-9f06-4125-9860-cfe6a223d2f6",
   "metadata": {},
   "outputs": [
    {
     "name": "stdout",
     "output_type": "stream",
     "text": [
      "Epoch 1/15\n",
      "422/422 [==============================] - 3s 5ms/step - loss: -0.8866 - accuracy: 0.8742 - val_loss: -0.9737 - val_accuracy: 0.9720\n",
      "Epoch 2/15\n",
      "422/422 [==============================] - 2s 5ms/step - loss: -0.9646 - accuracy: 0.9599 - val_loss: -0.9825 - val_accuracy: 0.9802\n",
      "Epoch 3/15\n",
      "422/422 [==============================] - 2s 5ms/step - loss: -0.9733 - accuracy: 0.9700 - val_loss: -0.9870 - val_accuracy: 0.9848\n",
      "Epoch 4/15\n",
      "422/422 [==============================] - 2s 5ms/step - loss: -0.9771 - accuracy: 0.9736 - val_loss: -0.9887 - val_accuracy: 0.9868\n",
      "Epoch 5/15\n",
      "422/422 [==============================] - 2s 5ms/step - loss: -0.9801 - accuracy: 0.9772 - val_loss: -0.9890 - val_accuracy: 0.9878\n",
      "Epoch 6/15\n",
      "422/422 [==============================] - 2s 5ms/step - loss: -0.9825 - accuracy: 0.9803 - val_loss: -0.9903 - val_accuracy: 0.9885\n",
      "Epoch 7/15\n",
      "422/422 [==============================] - 2s 6ms/step - loss: -0.9839 - accuracy: 0.9818 - val_loss: -0.9909 - val_accuracy: 0.9903\n",
      "Epoch 8/15\n",
      "422/422 [==============================] - 2s 6ms/step - loss: -0.9852 - accuracy: 0.9829 - val_loss: -0.9899 - val_accuracy: 0.9878\n",
      "Epoch 9/15\n",
      "422/422 [==============================] - 2s 6ms/step - loss: -0.9857 - accuracy: 0.9839 - val_loss: -0.9913 - val_accuracy: 0.9907\n",
      "Epoch 10/15\n",
      "422/422 [==============================] - 2s 6ms/step - loss: -0.9859 - accuracy: 0.9838 - val_loss: -0.9918 - val_accuracy: 0.9905\n",
      "Epoch 11/15\n",
      "422/422 [==============================] - 2s 5ms/step - loss: -0.9866 - accuracy: 0.9844 - val_loss: -0.9929 - val_accuracy: 0.9915\n",
      "Epoch 12/15\n",
      "422/422 [==============================] - 2s 5ms/step - loss: -0.9875 - accuracy: 0.9857 - val_loss: -0.9929 - val_accuracy: 0.9922\n",
      "Epoch 13/15\n",
      "422/422 [==============================] - 2s 5ms/step - loss: -0.9879 - accuracy: 0.9859 - val_loss: -0.9927 - val_accuracy: 0.9917\n",
      "Epoch 14/15\n",
      "422/422 [==============================] - 2s 5ms/step - loss: -0.9885 - accuracy: 0.9869 - val_loss: -0.9926 - val_accuracy: 0.9915\n",
      "Epoch 15/15\n",
      "422/422 [==============================] - 2s 5ms/step - loss: -0.9889 - accuracy: 0.9874 - val_loss: -0.9920 - val_accuracy: 0.9912\n"
     ]
    },
    {
     "data": {
      "text/plain": [
       "<keras.callbacks.History at 0x1cd88370910>"
      ]
     },
     "execution_count": 205,
     "metadata": {},
     "output_type": "execute_result"
    }
   ],
   "source": [
    "batch_size = 128\n",
    "epochs = 15\n",
    "model_10.compile(loss=\"cosine_similarity\", optimizer=\"adam\", metrics=[\"accuracy\"])\n",
    "model_10.fit(x_train, y_train, batch_size=batch_size, epochs=epochs, validation_split=0.1)"
   ]
  },
  {
   "cell_type": "code",
   "execution_count": 206,
   "id": "cc4d0b5a-db0f-47e0-bde4-bce7f1878bef",
   "metadata": {},
   "outputs": [
    {
     "name": "stdout",
     "output_type": "stream",
     "text": [
      "Test loss: -0.9911422729492188\n",
      "Test accuracy: 0.9896000027656555\n"
     ]
    }
   ],
   "source": [
    "score = model_10.evaluate(x_test, y_test, verbose=0)\n",
    "print(\"Test loss:\", score[0])\n",
    "print(\"Test accuracy:\", score[1])"
   ]
  },
  {
   "cell_type": "code",
   "execution_count": null,
   "id": "860d015d-739b-4c0d-a573-373910fbcc79",
   "metadata": {},
   "outputs": [],
   "source": []
  },
  {
   "cell_type": "code",
   "execution_count": null,
   "id": "83e1f485-fd0d-4a6c-ad62-04552be9208e",
   "metadata": {},
   "outputs": [],
   "source": []
  },
  {
   "cell_type": "markdown",
   "id": "dc34a65e-9e90-49b3-a739-820b3aeebaed",
   "metadata": {},
   "source": [
    "# 4 neuron"
   ]
  },
  {
   "cell_type": "code",
   "execution_count": 5,
   "id": "2f9b94e9-1e28-44cb-a1b3-59911e21c406",
   "metadata": {},
   "outputs": [],
   "source": [
    "dict2 = { \n",
    "(0,0,1,0):0,\n",
    "(1,0,0,0):1,\n",
    "(0,0,1,1):2,\n",
    "(0,1,0,0):3,\n",
    "(0,1,0,1):4,\n",
    "(0,1,1,0):5,\n",
    "(1,1,0,0):6,\n",
    "(0,0,0,1):7,\n",
    "(0,1,1,1):8,\n",
    "(1,1,0,1):9,\n",
    "}"
   ]
  },
  {
   "cell_type": "code",
   "execution_count": 6,
   "id": "93bab754-64d5-4339-8292-58daeaa15e83",
   "metadata": {},
   "outputs": [],
   "source": [
    "aa = [\n",
    "[0,0,1,0],\n",
    "[1,0,0,0],\n",
    "[0,0,1,1],\n",
    "[0,1,0,0],\n",
    "[0,1,0,1],\n",
    "[0,1,1,0],\n",
    "[1,1,0,0],\n",
    "[0,0,0,1],\n",
    "[0,1,1,1],\n",
    "[1,1,0,1]]"
   ]
  },
  {
   "cell_type": "code",
   "execution_count": 7,
   "id": "40c1710d-9a27-4ba5-b12d-ba653789d030",
   "metadata": {},
   "outputs": [],
   "source": [
    "y_4_train = []\n",
    "y_4_test = []\n",
    "\n",
    "for y in y_train:\n",
    "    y_4_train.append(list(np.dot(y,aa)))\n",
    "y_4_train = np.array(y_4_train)\n",
    "\n",
    "for y in y_test:\n",
    "    y_4_test.append(list(np.dot(y,aa)))\n",
    "y_4_test = np.array(y_4_test)"
   ]
  },
  {
   "cell_type": "code",
   "execution_count": 207,
   "id": "c211aab6-3c98-4bce-b3d8-f15fb6c57c80",
   "metadata": {
    "tags": []
   },
   "outputs": [
    {
     "name": "stdout",
     "output_type": "stream",
     "text": [
      "Model: \"sequential_72\"\n",
      "_________________________________________________________________\n",
      " Layer (type)                Output Shape              Param #   \n",
      "=================================================================\n",
      " conv2d_189 (Conv2D)         (None, 26, 26, 32)        320       \n",
      "                                                                 \n",
      " max_pooling2d_168 (MaxPooli  (None, 13, 13, 32)       0         \n",
      " ng2D)                                                           \n",
      "                                                                 \n",
      " conv2d_190 (Conv2D)         (None, 11, 11, 64)        18496     \n",
      "                                                                 \n",
      " max_pooling2d_169 (MaxPooli  (None, 5, 5, 64)         0         \n",
      " ng2D)                                                           \n",
      "                                                                 \n",
      " flatten_72 (Flatten)        (None, 1600)              0         \n",
      "                                                                 \n",
      " dropout_72 (Dropout)        (None, 1600)              0         \n",
      "                                                                 \n",
      " dense_72 (Dense)            (None, 4)                 6404      \n",
      "                                                                 \n",
      "=================================================================\n",
      "Total params: 25,220\n",
      "Trainable params: 25,220\n",
      "Non-trainable params: 0\n",
      "_________________________________________________________________\n"
     ]
    }
   ],
   "source": [
    "model_4 = keras.Sequential(\n",
    "    [\n",
    "        keras.Input(shape=input_shape),\n",
    "        layers.Conv2D(32, kernel_size=(3, 3), activation=\"relu\"),\n",
    "        layers.MaxPooling2D(pool_size=(2, 2)),\n",
    "        layers.Conv2D(64, kernel_size=(3, 3), activation=\"relu\"),\n",
    "        layers.MaxPooling2D(pool_size=(2, 2)),\n",
    "        layers.Flatten(),\n",
    "        layers.Dropout(0.5),\n",
    "        layers.Dense(4, activation=\"sigmoid\"),\n",
    "    ]\n",
    ")\n",
    "\n",
    "model_4.summary()"
   ]
  },
  {
   "cell_type": "code",
   "execution_count": 208,
   "id": "b2edc135-42ad-470b-83bc-d450462dac77",
   "metadata": {
    "tags": []
   },
   "outputs": [
    {
     "name": "stdout",
     "output_type": "stream",
     "text": [
      "Epoch 1/15\n",
      "422/422 [==============================] - 2s 5ms/step - loss: -0.9135 - val_loss: -0.9726\n",
      "Epoch 2/15\n",
      "422/422 [==============================] - 2s 5ms/step - loss: -0.9637 - val_loss: -0.9812\n",
      "Epoch 3/15\n",
      "422/422 [==============================] - 2s 5ms/step - loss: -0.9707 - val_loss: -0.9837\n",
      "Epoch 4/15\n",
      "422/422 [==============================] - 2s 5ms/step - loss: -0.9744 - val_loss: -0.9868\n",
      "Epoch 5/15\n",
      "422/422 [==============================] - 2s 5ms/step - loss: -0.9770 - val_loss: -0.9878\n",
      "Epoch 6/15\n",
      "422/422 [==============================] - 2s 5ms/step - loss: -0.9786 - val_loss: -0.9887\n",
      "Epoch 7/15\n",
      "422/422 [==============================] - 2s 5ms/step - loss: -0.9795 - val_loss: -0.9878\n",
      "Epoch 8/15\n",
      "422/422 [==============================] - 2s 5ms/step - loss: -0.9806 - val_loss: -0.9896\n",
      "Epoch 9/15\n",
      "422/422 [==============================] - 2s 5ms/step - loss: -0.9815 - val_loss: -0.9904\n",
      "Epoch 10/15\n",
      "422/422 [==============================] - 2s 5ms/step - loss: -0.9822 - val_loss: -0.9905\n",
      "Epoch 11/15\n",
      "422/422 [==============================] - 2s 5ms/step - loss: -0.9825 - val_loss: -0.9908\n",
      "Epoch 12/15\n",
      "422/422 [==============================] - 2s 5ms/step - loss: -0.9835 - val_loss: -0.9909\n",
      "Epoch 13/15\n",
      "422/422 [==============================] - 2s 5ms/step - loss: -0.9840 - val_loss: -0.9913\n",
      "Epoch 14/15\n",
      "422/422 [==============================] - 2s 5ms/step - loss: -0.9843 - val_loss: -0.9915\n",
      "Epoch 15/15\n",
      "422/422 [==============================] - 2s 5ms/step - loss: -0.9846 - val_loss: -0.9918\n"
     ]
    },
    {
     "data": {
      "text/plain": [
       "<keras.callbacks.History at 0x1cd89196a90>"
      ]
     },
     "execution_count": 208,
     "metadata": {},
     "output_type": "execute_result"
    }
   ],
   "source": [
    "batch_size = 128\n",
    "epochs = 15\n",
    "model_4.compile(loss=\"cosine_similarity\", optimizer=\"adam\")\n",
    "model_4.fit(x_train, y_4_train, batch_size=batch_size, epochs=epochs, validation_split=0.1)"
   ]
  },
  {
   "cell_type": "code",
   "execution_count": 209,
   "id": "a0140612-1bc6-4652-a04f-b00213605a8d",
   "metadata": {},
   "outputs": [],
   "source": [
    "prediction = model_4.predict(x_test)"
   ]
  },
  {
   "cell_type": "code",
   "execution_count": 210,
   "id": "a2195c26-f43f-4ef3-a474-690a30bc9b9f",
   "metadata": {},
   "outputs": [
    {
     "name": "stdout",
     "output_type": "stream",
     "text": [
      "decoding error occured: 124 times\n",
      "accuracy:  0.9588\n"
     ]
    }
   ],
   "source": [
    "norm_prediction = []\n",
    "number_decoding_errs = 0\n",
    "for y in prediction:\n",
    "    try:\n",
    "        t_y = tuple(np.round(y).astype('int'))\n",
    "        norm_prediction.append(dict2[t_y])\n",
    "    except:\n",
    "        number_decoding_errs+=1\n",
    "        norm_prediction.append(5)\n",
    "        \n",
    "print('decoding error occured: {} times'.format(number_decoding_errs))\n",
    "print('accuracy: ', sum([y == x for x, y in zip(norm_prediction, original_y_test)])/len(original_y_test))"
   ]
  },
  {
   "cell_type": "markdown",
   "id": "6ff019ea-bdd7-4b69-886a-43fce5f06296",
   "metadata": {},
   "source": [
    "## +1 Convolutional layer"
   ]
  },
  {
   "cell_type": "code",
   "execution_count": 214,
   "id": "d7d9e20e-0d7b-4b2d-ac26-22a2dfdfa475",
   "metadata": {
    "tags": []
   },
   "outputs": [
    {
     "name": "stdout",
     "output_type": "stream",
     "text": [
      "Model: \"sequential_76\"\n",
      "_________________________________________________________________\n",
      " Layer (type)                Output Shape              Param #   \n",
      "=================================================================\n",
      " conv2d_200 (Conv2D)         (None, 24, 24, 16)        416       \n",
      "                                                                 \n",
      " max_pooling2d_176 (MaxPooli  (None, 12, 12, 16)       0         \n",
      " ng2D)                                                           \n",
      "                                                                 \n",
      " conv2d_201 (Conv2D)         (None, 10, 10, 32)        4640      \n",
      "                                                                 \n",
      " max_pooling2d_177 (MaxPooli  (None, 5, 5, 32)         0         \n",
      " ng2D)                                                           \n",
      "                                                                 \n",
      " conv2d_202 (Conv2D)         (None, 3, 3, 64)          18496     \n",
      "                                                                 \n",
      " flatten_76 (Flatten)        (None, 576)               0         \n",
      "                                                                 \n",
      " dropout_75 (Dropout)        (None, 576)               0         \n",
      "                                                                 \n",
      " dense_76 (Dense)            (None, 4)                 2308      \n",
      "                                                                 \n",
      "=================================================================\n",
      "Total params: 25,860\n",
      "Trainable params: 25,860\n",
      "Non-trainable params: 0\n",
      "_________________________________________________________________\n"
     ]
    }
   ],
   "source": [
    "model_4_1 = keras.Sequential(\n",
    "    [\n",
    "        keras.Input(shape=input_shape),\n",
    "        layers.Conv2D(16, kernel_size=(5, 5), activation=\"relu\"),\n",
    "        layers.MaxPooling2D(pool_size=(2, 2)),\n",
    "        layers.Conv2D(32, kernel_size=(3, 3), activation=\"relu\"),\n",
    "        layers.MaxPooling2D(pool_size=(2, 2)),\n",
    "        layers.Conv2D(64, kernel_size=(3, 3), activation=\"relu\"),\n",
    "        layers.Flatten(),\n",
    "        layers.Dropout(0.5),\n",
    "        layers.Dense(4, activation=\"sigmoid\"),\n",
    "    ]\n",
    ")\n",
    "\n",
    "model_4_1.summary()"
   ]
  },
  {
   "cell_type": "code",
   "execution_count": 215,
   "id": "fdb587e2-a979-4871-aec1-0fb7e0b36843",
   "metadata": {
    "tags": []
   },
   "outputs": [
    {
     "name": "stdout",
     "output_type": "stream",
     "text": [
      "Epoch 1/15\n",
      "422/422 [==============================] - 2s 5ms/step - loss: -0.9301 - val_loss: -0.9837\n",
      "Epoch 2/15\n",
      "422/422 [==============================] - 2s 5ms/step - loss: -0.9769 - val_loss: -0.9884\n",
      "Epoch 3/15\n",
      "422/422 [==============================] - 2s 5ms/step - loss: -0.9827 - val_loss: -0.9904\n",
      "Epoch 4/15\n",
      "422/422 [==============================] - 2s 5ms/step - loss: -0.9854 - val_loss: -0.9917\n",
      "Epoch 5/15\n",
      "422/422 [==============================] - 2s 6ms/step - loss: -0.9872 - val_loss: -0.9931\n",
      "Epoch 6/15\n",
      "422/422 [==============================] - 2s 6ms/step - loss: -0.9884 - val_loss: -0.9929\n",
      "Epoch 7/15\n",
      "422/422 [==============================] - 2s 6ms/step - loss: -0.9894 - val_loss: -0.9944\n",
      "Epoch 8/15\n",
      "422/422 [==============================] - 2s 6ms/step - loss: -0.9900 - val_loss: -0.9939\n",
      "Epoch 9/15\n",
      "422/422 [==============================] - 2s 6ms/step - loss: -0.9906 - val_loss: -0.9943\n",
      "Epoch 10/15\n",
      "422/422 [==============================] - 2s 5ms/step - loss: -0.9914 - val_loss: -0.9953\n",
      "Epoch 11/15\n",
      "422/422 [==============================] - 2s 5ms/step - loss: -0.9916 - val_loss: -0.9949\n",
      "Epoch 12/15\n",
      "422/422 [==============================] - 2s 5ms/step - loss: -0.9923 - val_loss: -0.9950\n",
      "Epoch 13/15\n",
      "422/422 [==============================] - 2s 5ms/step - loss: -0.9927 - val_loss: -0.9954\n",
      "Epoch 14/15\n",
      "422/422 [==============================] - 2s 5ms/step - loss: -0.9931 - val_loss: -0.9950\n",
      "Epoch 15/15\n",
      "422/422 [==============================] - 2s 5ms/step - loss: -0.9932 - val_loss: -0.9957\n"
     ]
    },
    {
     "data": {
      "text/plain": [
       "<keras.callbacks.History at 0x1cd889e4850>"
      ]
     },
     "execution_count": 215,
     "metadata": {},
     "output_type": "execute_result"
    }
   ],
   "source": [
    "batch_size = 128\n",
    "epochs = 15\n",
    "model_4_1.compile(loss=\"cosine_similarity\", optimizer=\"adam\")\n",
    "model_4_1.fit(x_train, y_4_train, batch_size=batch_size, epochs=epochs, validation_split=0.1)"
   ]
  },
  {
   "cell_type": "code",
   "execution_count": 216,
   "id": "5d729bab-edca-4368-aa46-8fb484fe91ff",
   "metadata": {},
   "outputs": [],
   "source": [
    "prediction = model_4_1.predict(x_test)"
   ]
  },
  {
   "cell_type": "code",
   "execution_count": 217,
   "id": "1286a9a3-61b6-4fc8-ae88-e618f225451c",
   "metadata": {},
   "outputs": [
    {
     "name": "stdout",
     "output_type": "stream",
     "text": [
      "decoding error occured: 64 times\n",
      "accuracy:  0.981\n"
     ]
    }
   ],
   "source": [
    "norm_prediction = []\n",
    "number_decoding_errs = 0\n",
    "for y in prediction:\n",
    "    try:\n",
    "        t_y = tuple(np.round(y).astype('int'))\n",
    "        norm_prediction.append(dict2[t_y])\n",
    "    except:\n",
    "        number_decoding_errs+=1\n",
    "        norm_prediction.append(5)\n",
    "        \n",
    "print('decoding error occured: {} times'.format(number_decoding_errs))\n",
    "print('accuracy: ', sum([y == x for x, y in zip(norm_prediction, original_y_test)])/len(original_y_test))"
   ]
  },
  {
   "cell_type": "markdown",
   "id": "c81b1f7e-6a67-4064-b4b8-acc72ffeee2f",
   "metadata": {},
   "source": [
    "## +2 Convolutional layers"
   ]
  },
  {
   "cell_type": "code",
   "execution_count": 231,
   "id": "acbae125-f814-429d-98e0-cffc34ae54a5",
   "metadata": {
    "tags": []
   },
   "outputs": [
    {
     "name": "stdout",
     "output_type": "stream",
     "text": [
      "Model: \"sequential_87\"\n",
      "_________________________________________________________________\n",
      " Layer (type)                Output Shape              Param #   \n",
      "=================================================================\n",
      " conv2d_240 (Conv2D)         (None, 24, 24, 8)         208       \n",
      "                                                                 \n",
      " conv2d_241 (Conv2D)         (None, 22, 22, 16)        1168      \n",
      "                                                                 \n",
      " max_pooling2d_202 (MaxPooli  (None, 11, 11, 16)       0         \n",
      " ng2D)                                                           \n",
      "                                                                 \n",
      " conv2d_242 (Conv2D)         (None, 9, 9, 32)          4640      \n",
      "                                                                 \n",
      " max_pooling2d_203 (MaxPooli  (None, 4, 4, 32)         0         \n",
      " ng2D)                                                           \n",
      "                                                                 \n",
      " conv2d_243 (Conv2D)         (None, 2, 2, 64)          18496     \n",
      "                                                                 \n",
      " flatten_87 (Flatten)        (None, 256)               0         \n",
      "                                                                 \n",
      " dropout_86 (Dropout)        (None, 256)               0         \n",
      "                                                                 \n",
      " dense_87 (Dense)            (None, 4)                 1028      \n",
      "                                                                 \n",
      "=================================================================\n",
      "Total params: 25,540\n",
      "Trainable params: 25,540\n",
      "Non-trainable params: 0\n",
      "_________________________________________________________________\n"
     ]
    }
   ],
   "source": [
    "model_4_2 = keras.Sequential(\n",
    "    [\n",
    "        keras.Input(shape=input_shape),\n",
    "        layers.Conv2D(8, kernel_size=(5, 5), activation=\"relu\"),\n",
    "       # layers.MaxPooling2D(pool_size=(2, 2)),\n",
    "        layers.Conv2D(16, kernel_size=(3, 3), activation=\"relu\"),\n",
    "        layers.MaxPooling2D(pool_size=(2, 2)),\n",
    "        layers.Conv2D(32, kernel_size=(3, 3), activation=\"relu\"),\n",
    "        layers.MaxPooling2D(pool_size=(2, 2)),\n",
    "        layers.Conv2D(64, kernel_size=(3, 3), activation=\"relu\"),\n",
    "        layers.Flatten(),\n",
    "        layers.Dropout(0.5),\n",
    "        layers.Dense(4, activation=\"sigmoid\"),\n",
    "    ]\n",
    ")\n",
    "\n",
    "model_4_2.summary()"
   ]
  },
  {
   "cell_type": "code",
   "execution_count": 232,
   "id": "ba675aa0-4b47-482a-aa0e-7c96c8537e83",
   "metadata": {
    "tags": []
   },
   "outputs": [
    {
     "name": "stdout",
     "output_type": "stream",
     "text": [
      "Epoch 1/15\n",
      "422/422 [==============================] - 3s 6ms/step - loss: -0.9218 - val_loss: -0.9802\n",
      "Epoch 2/15\n",
      "422/422 [==============================] - 2s 5ms/step - loss: -0.9732 - val_loss: -0.9879\n",
      "Epoch 3/15\n",
      "422/422 [==============================] - 2s 5ms/step - loss: -0.9803 - val_loss: -0.9910\n",
      "Epoch 4/15\n",
      "422/422 [==============================] - 2s 6ms/step - loss: -0.9842 - val_loss: -0.9910\n",
      "Epoch 5/15\n",
      "422/422 [==============================] - 2s 6ms/step - loss: -0.9864 - val_loss: -0.9937\n",
      "Epoch 6/15\n",
      "422/422 [==============================] - 2s 6ms/step - loss: -0.9874 - val_loss: -0.9951\n",
      "Epoch 7/15\n",
      "422/422 [==============================] - 2s 6ms/step - loss: -0.9891 - val_loss: -0.9940\n",
      "Epoch 8/15\n",
      "422/422 [==============================] - 2s 6ms/step - loss: -0.9902 - val_loss: -0.9945\n",
      "Epoch 9/15\n",
      "422/422 [==============================] - 2s 6ms/step - loss: -0.9907 - val_loss: -0.9956\n",
      "Epoch 10/15\n",
      "422/422 [==============================] - 2s 6ms/step - loss: -0.9913 - val_loss: -0.9958\n",
      "Epoch 11/15\n",
      "422/422 [==============================] - 2s 6ms/step - loss: -0.9915 - val_loss: -0.9962\n",
      "Epoch 12/15\n",
      "422/422 [==============================] - 3s 6ms/step - loss: -0.9924 - val_loss: -0.9954\n",
      "Epoch 13/15\n",
      "422/422 [==============================] - 2s 6ms/step - loss: -0.9929 - val_loss: -0.9959\n",
      "Epoch 14/15\n",
      "422/422 [==============================] - 2s 6ms/step - loss: -0.9930 - val_loss: -0.9969\n",
      "Epoch 15/15\n",
      "422/422 [==============================] - 3s 6ms/step - loss: -0.9933 - val_loss: -0.9967\n"
     ]
    },
    {
     "data": {
      "text/plain": [
       "<keras.callbacks.History at 0x1cd9ac698b0>"
      ]
     },
     "execution_count": 232,
     "metadata": {},
     "output_type": "execute_result"
    }
   ],
   "source": [
    "batch_size = 128\n",
    "epochs = 15\n",
    "model_4_2.compile(loss=\"cosine_similarity\", optimizer=\"adam\")\n",
    "model_4_2.fit(x_train, y_4_train, batch_size=batch_size, epochs=epochs, validation_split=0.1)"
   ]
  },
  {
   "cell_type": "code",
   "execution_count": 235,
   "id": "a5c59f77-be57-463e-917a-6e2dee4e1a70",
   "metadata": {},
   "outputs": [],
   "source": [
    "prediction = model_4_2.predict(x_test)"
   ]
  },
  {
   "cell_type": "code",
   "execution_count": 236,
   "id": "bd3f918d-6110-4a8e-b699-4ef30c0e33b4",
   "metadata": {},
   "outputs": [
    {
     "name": "stdout",
     "output_type": "stream",
     "text": [
      "decoding error occured: 13 times\n",
      "accuracy:  0.9856\n"
     ]
    }
   ],
   "source": [
    "norm_prediction = []\n",
    "number_decoding_errs = 0\n",
    "for y in prediction:\n",
    "    try:\n",
    "        t_y = tuple(np.round(y).astype('int'))\n",
    "        norm_prediction.append(dict2[t_y])\n",
    "    except:\n",
    "        number_decoding_errs+=1\n",
    "        norm_prediction.append(5)\n",
    "        \n",
    "print('decoding error occured: {} times'.format(number_decoding_errs))\n",
    "print('accuracy: ', sum([y == x for x, y in zip(norm_prediction, original_y_test)])/len(original_y_test))"
   ]
  },
  {
   "cell_type": "markdown",
   "id": "4f78bc2b-f5ae-40b5-90c9-a5c36337a3e4",
   "metadata": {},
   "source": [
    "## +3 Convolutional layers"
   ]
  },
  {
   "cell_type": "code",
   "execution_count": 239,
   "id": "226a9063-18f8-4d30-b541-d0582545441f",
   "metadata": {
    "tags": []
   },
   "outputs": [
    {
     "name": "stdout",
     "output_type": "stream",
     "text": [
      "Model: \"sequential_90\"\n",
      "_________________________________________________________________\n",
      " Layer (type)                Output Shape              Param #   \n",
      "=================================================================\n",
      " conv2d_254 (Conv2D)         (None, 24, 24, 16)        416       \n",
      "                                                                 \n",
      " conv2d_255 (Conv2D)         (None, 22, 22, 16)        2320      \n",
      "                                                                 \n",
      " conv2d_256 (Conv2D)         (None, 20, 20, 16)        2320      \n",
      "                                                                 \n",
      " max_pooling2d_208 (MaxPooli  (None, 10, 10, 16)       0         \n",
      " ng2D)                                                           \n",
      "                                                                 \n",
      " conv2d_257 (Conv2D)         (None, 8, 8, 32)          4640      \n",
      "                                                                 \n",
      " max_pooling2d_209 (MaxPooli  (None, 4, 4, 32)         0         \n",
      " ng2D)                                                           \n",
      "                                                                 \n",
      " conv2d_258 (Conv2D)         (None, 2, 2, 64)          18496     \n",
      "                                                                 \n",
      " flatten_90 (Flatten)        (None, 256)               0         \n",
      "                                                                 \n",
      " dropout_89 (Dropout)        (None, 256)               0         \n",
      "                                                                 \n",
      " dense_90 (Dense)            (None, 4)                 1028      \n",
      "                                                                 \n",
      "=================================================================\n",
      "Total params: 29,220\n",
      "Trainable params: 29,220\n",
      "Non-trainable params: 0\n",
      "_________________________________________________________________\n"
     ]
    }
   ],
   "source": [
    "model_4_3 = keras.Sequential(\n",
    "    [\n",
    "        keras.Input(shape=input_shape),\n",
    "        layers.Conv2D(16, kernel_size=(5, 5), activation=\"relu\"),\n",
    "        layers.Conv2D(16, kernel_size=(3, 3), activation=\"relu\"),\n",
    "       # layers.MaxPooling2D(pool_size=(2, 2)),\n",
    "        layers.Conv2D(16, kernel_size=(3, 3), activation=\"relu\"),\n",
    "        layers.MaxPooling2D(pool_size=(2, 2)),\n",
    "        layers.Conv2D(32, kernel_size=(3, 3), activation=\"relu\"),\n",
    "        layers.MaxPooling2D(pool_size=(2, 2)),\n",
    "        layers.Conv2D(64, kernel_size=(3, 3), activation=\"relu\"),\n",
    "        layers.Flatten(),\n",
    "        layers.Dropout(0.5),\n",
    "        layers.Dense(4, activation=\"sigmoid\"),\n",
    "    ]\n",
    ")\n",
    "\n",
    "model_4_3.summary()"
   ]
  },
  {
   "cell_type": "code",
   "execution_count": 240,
   "id": "af9f95fb-ec4b-4f01-bbd4-787014a370e3",
   "metadata": {
    "tags": []
   },
   "outputs": [
    {
     "name": "stdout",
     "output_type": "stream",
     "text": [
      "Epoch 1/15\n",
      "422/422 [==============================] - 3s 6ms/step - loss: -0.9274 - val_loss: -0.9845\n",
      "Epoch 2/15\n",
      "422/422 [==============================] - 2s 6ms/step - loss: -0.9760 - val_loss: -0.9898\n",
      "Epoch 3/15\n",
      "422/422 [==============================] - 3s 6ms/step - loss: -0.9827 - val_loss: -0.9908\n",
      "Epoch 4/15\n",
      "422/422 [==============================] - 3s 6ms/step - loss: -0.9862 - val_loss: -0.9931\n",
      "Epoch 5/15\n",
      "422/422 [==============================] - 3s 6ms/step - loss: -0.9881 - val_loss: -0.9945\n",
      "Epoch 6/15\n",
      "422/422 [==============================] - 3s 6ms/step - loss: -0.9897 - val_loss: -0.9948\n",
      "Epoch 7/15\n",
      "422/422 [==============================] - 3s 6ms/step - loss: -0.9904 - val_loss: -0.9954\n",
      "Epoch 8/15\n",
      "422/422 [==============================] - 3s 6ms/step - loss: -0.9910 - val_loss: -0.9948\n",
      "Epoch 9/15\n",
      "422/422 [==============================] - 3s 6ms/step - loss: -0.9920 - val_loss: -0.9964\n",
      "Epoch 10/15\n",
      "422/422 [==============================] - 3s 6ms/step - loss: -0.9925 - val_loss: -0.9961\n",
      "Epoch 11/15\n",
      "422/422 [==============================] - 2s 6ms/step - loss: -0.9925 - val_loss: -0.9960\n",
      "Epoch 12/15\n",
      "422/422 [==============================] - 3s 6ms/step - loss: -0.9936 - val_loss: -0.9972\n",
      "Epoch 13/15\n",
      "422/422 [==============================] - 3s 6ms/step - loss: -0.9931 - val_loss: -0.9967\n",
      "Epoch 14/15\n",
      "422/422 [==============================] - 3s 6ms/step - loss: -0.9940 - val_loss: -0.9968\n",
      "Epoch 15/15\n",
      "422/422 [==============================] - 3s 6ms/step - loss: -0.9939 - val_loss: -0.9967\n"
     ]
    },
    {
     "data": {
      "text/plain": [
       "<keras.callbacks.History at 0x1cd9ad2b790>"
      ]
     },
     "execution_count": 240,
     "metadata": {},
     "output_type": "execute_result"
    }
   ],
   "source": [
    "batch_size = 128\n",
    "epochs = 15\n",
    "model_4_3.compile(loss=\"cosine_similarity\", optimizer=\"adam\")\n",
    "model_4_3.fit(x_train, y_4_train, batch_size=batch_size, epochs=epochs, validation_split=0.1)"
   ]
  },
  {
   "cell_type": "code",
   "execution_count": 241,
   "id": "bba650bc-4087-4ee6-9cd3-66c1a7493e1e",
   "metadata": {},
   "outputs": [],
   "source": [
    "prediction = model_4_3.predict(x_test)"
   ]
  },
  {
   "cell_type": "code",
   "execution_count": 242,
   "id": "62c7a4d8-5709-45ca-b203-d41b4d9ce925",
   "metadata": {},
   "outputs": [
    {
     "name": "stdout",
     "output_type": "stream",
     "text": [
      "decoding error occured: 16 times\n",
      "accuracy:  0.9884\n"
     ]
    }
   ],
   "source": [
    "norm_prediction = []\n",
    "number_decoding_errs = 0\n",
    "for y in prediction:\n",
    "    try:\n",
    "        t_y = tuple(np.round(y).astype('int'))\n",
    "        norm_prediction.append(dict2[t_y])\n",
    "    except:\n",
    "        number_decoding_errs+=1\n",
    "        norm_prediction.append(5)\n",
    "        \n",
    "print('decoding error occured: {} times'.format(number_decoding_errs))\n",
    "print('accuracy: ', sum([y == x for x, y in zip(norm_prediction, original_y_test)])/len(original_y_test))"
   ]
  },
  {
   "cell_type": "markdown",
   "id": "fdf7aba5-fc07-433c-a667-61be752d07a7",
   "metadata": {},
   "source": [
    "# 5 neuron"
   ]
  },
  {
   "cell_type": "code",
   "execution_count": 243,
   "id": "e643cd2e-956f-4a86-8b29-ce5eb2fe8953",
   "metadata": {},
   "outputs": [],
   "source": [
    "dict5 = {(0,0,0,1,1):0,\n",
    "        (0,0,1,0,1):1,\n",
    "        (0,0,1,1,0):2,\n",
    "        (0,1,0,0,1):3,\n",
    "        (0,1,0,1,0):4,\n",
    "        (0,1,1,0,0):5,\n",
    "        (1,0,0,0,1):6,\n",
    "        (1,0,0,1,0):7,\n",
    "        (1,0,1,0,0):8,\n",
    "        (1,1,0,0,0):9}"
   ]
  },
  {
   "cell_type": "code",
   "execution_count": 244,
   "id": "088dac9f-991a-458f-83e8-6237c7f62bb9",
   "metadata": {},
   "outputs": [],
   "source": [
    "A =  [[0,0,0,1,1],\n",
    "      [0,0,1,0,1],\n",
    "      [0,0,1,1,0],\n",
    "      [0,1,0,0,1],\n",
    "      [0,1,0,1,0],\n",
    "      [0,1,1,0,0],\n",
    "      [1,0,0,0,1],\n",
    "      [1,0,0,1,0],\n",
    "      [1,0,1,0,0],\n",
    "      [1,1,0,0,0]]"
   ]
  },
  {
   "cell_type": "code",
   "execution_count": 245,
   "id": "cd8a5f6c-3a97-4efa-832a-2cc1b41390d3",
   "metadata": {
    "tags": []
   },
   "outputs": [],
   "source": [
    "y_5_train = []\n",
    "y_5_test = []\n",
    "\n",
    "for y in y_train:\n",
    "    y_5_train.append(list(np.dot(y,aa5)))\n",
    "y_5_train = np.array(y_5_train)\n",
    "\n",
    "for y in y_test:\n",
    "    y_5_test.append(list(np.dot(y,aa5)))\n",
    "y_5_test = np.array(y_5_test)"
   ]
  },
  {
   "cell_type": "code",
   "execution_count": 7,
   "id": "32d0c739-2302-4989-a646-859981cb4762",
   "metadata": {},
   "outputs": [
    {
     "name": "stdout",
     "output_type": "stream",
     "text": [
      "Model: \"sequential_2\"\n",
      "_________________________________________________________________\n",
      " Layer (type)                Output Shape              Param #   \n",
      "=================================================================\n",
      " conv2d_4 (Conv2D)           (None, 26, 26, 32)        320       \n",
      "                                                                 \n",
      " max_pooling2d_4 (MaxPooling  (None, 13, 13, 32)       0         \n",
      " 2D)                                                             \n",
      "                                                                 \n",
      " conv2d_5 (Conv2D)           (None, 11, 11, 64)        18496     \n",
      "                                                                 \n",
      " max_pooling2d_5 (MaxPooling  (None, 5, 5, 64)         0         \n",
      " 2D)                                                             \n",
      "                                                                 \n",
      " flatten_2 (Flatten)         (None, 1600)              0         \n",
      "                                                                 \n",
      " dropout_2 (Dropout)         (None, 1600)              0         \n",
      "                                                                 \n",
      " dense_2 (Dense)             (None, 5)                 8005      \n",
      "                                                                 \n",
      "=================================================================\n",
      "Total params: 26,821\n",
      "Trainable params: 26,821\n",
      "Non-trainable params: 0\n",
      "_________________________________________________________________\n"
     ]
    }
   ],
   "source": [
    "model_5 = keras.Sequential(\n",
    "    [\n",
    "        keras.Input(shape=input_shape),\n",
    "        layers.Conv2D(32, kernel_size=(3, 3), activation=\"relu\"),\n",
    "        layers.MaxPooling2D(pool_size=(2, 2)),\n",
    "        layers.Conv2D(64, kernel_size=(3, 3), activation=\"relu\"),\n",
    "        layers.MaxPooling2D(pool_size=(2, 2)),\n",
    "        layers.Flatten(),\n",
    "        layers.Dropout(0.5),\n",
    "        layers.Dense(5, activation=\"sigmoid\"),\n",
    "    ]\n",
    ")\n",
    "\n",
    "model_5.summary()"
   ]
  },
  {
   "cell_type": "code",
   "execution_count": 356,
   "id": "c061c202-8bdc-4034-8b5e-abaf2d289e45",
   "metadata": {},
   "outputs": [
    {
     "name": "stdout",
     "output_type": "stream",
     "text": [
      "Epoch 1/15\n",
      "422/422 [==============================] - 2s 5ms/step - loss: -0.9799 - val_loss: -0.9883\n",
      "Epoch 2/15\n",
      "422/422 [==============================] - 2s 5ms/step - loss: -0.9802 - val_loss: -0.9885\n",
      "Epoch 3/15\n",
      "422/422 [==============================] - 2s 5ms/step - loss: -0.9807 - val_loss: -0.9888\n",
      "Epoch 4/15\n",
      "422/422 [==============================] - 2s 5ms/step - loss: -0.9812 - val_loss: -0.9892\n",
      "Epoch 5/15\n",
      "422/422 [==============================] - 2s 5ms/step - loss: -0.9811 - val_loss: -0.9887\n",
      "Epoch 6/15\n",
      "422/422 [==============================] - 2s 5ms/step - loss: -0.9818 - val_loss: -0.9888\n",
      "Epoch 7/15\n",
      "422/422 [==============================] - 2s 5ms/step - loss: -0.9822 - val_loss: -0.9888\n",
      "Epoch 8/15\n",
      "422/422 [==============================] - 2s 5ms/step - loss: -0.9820 - val_loss: -0.9893\n",
      "Epoch 9/15\n",
      "422/422 [==============================] - 2s 5ms/step - loss: -0.9821 - val_loss: -0.9894\n",
      "Epoch 10/15\n",
      "422/422 [==============================] - 2s 5ms/step - loss: -0.9822 - val_loss: -0.9891\n",
      "Epoch 11/15\n",
      "422/422 [==============================] - 2s 5ms/step - loss: -0.9825 - val_loss: -0.9895\n",
      "Epoch 12/15\n",
      "422/422 [==============================] - 2s 5ms/step - loss: -0.9829 - val_loss: -0.9900\n",
      "Epoch 13/15\n",
      "422/422 [==============================] - 2s 5ms/step - loss: -0.9833 - val_loss: -0.9900\n",
      "Epoch 14/15\n",
      "422/422 [==============================] - 2s 5ms/step - loss: -0.9830 - val_loss: -0.9903\n",
      "Epoch 15/15\n",
      "422/422 [==============================] - 2s 5ms/step - loss: -0.9833 - val_loss: -0.9902\n"
     ]
    },
    {
     "data": {
      "text/plain": [
       "<keras.callbacks.History at 0x1cf33393850>"
      ]
     },
     "execution_count": 356,
     "metadata": {},
     "output_type": "execute_result"
    }
   ],
   "source": [
    "batch_size = 128\n",
    "epochs = 15\n",
    "model_5.compile(loss=\"cosine_similarity\", optimizer=\"adam\")\n",
    "model_5.fit(x_train, y_5_train, batch_size=batch_size, epochs=epochs, validation_split=0.1)"
   ]
  },
  {
   "cell_type": "code",
   "execution_count": 357,
   "id": "ccdb08dc-4158-4b4e-8176-02934248f7a4",
   "metadata": {},
   "outputs": [],
   "source": [
    "prediction = model_5.predict(x_test)"
   ]
  },
  {
   "cell_type": "code",
   "execution_count": 358,
   "id": "3b47049f-e65a-45f3-aee8-05d7288d837b",
   "metadata": {},
   "outputs": [
    {
     "name": "stdout",
     "output_type": "stream",
     "text": [
      "decoding error occured: 0 times\n",
      "accuracy:  0.9794\n"
     ]
    }
   ],
   "source": [
    "prediction = np.round(prediction,2)\n",
    "ind_pred = np.argsort(prediction,axis=1)[:,-2:]\n",
    "norm_prediction = []\n",
    "number_decoding_errs = 0\n",
    "for y in ind_pred:\n",
    "    try:\n",
    "        t_y=tuple([1 if x in y else 0 for x in range(5)])\n",
    "        norm_prediction.append(dict5[t_y])\n",
    "    except:\n",
    "        number_decoding_errs+=1\n",
    "        norm_prediction.append(9)\n",
    "        \n",
    "print('decoding error occured: {} times'.format(number_decoding_errs))\n",
    "print('accuracy: ', sum([y == x for x, y in zip(norm_prediction, original_y_test)])/len(original_y_test))"
   ]
  },
  {
   "cell_type": "markdown",
   "id": "459fc0e3-a538-4ef5-9c8a-8f7eb0caa7bb",
   "metadata": {},
   "source": [
    "## +1 Convolutional layer"
   ]
  },
  {
   "cell_type": "code",
   "execution_count": 345,
   "id": "eca01b2a-f8ef-4eed-a809-578ba806bd78",
   "metadata": {},
   "outputs": [
    {
     "name": "stdout",
     "output_type": "stream",
     "text": [
      "Model: \"sequential_111\"\n",
      "_________________________________________________________________\n",
      " Layer (type)                Output Shape              Param #   \n",
      "=================================================================\n",
      " conv2d_292 (Conv2D)         (None, 24, 24, 16)        416       \n",
      "                                                                 \n",
      " max_pooling2d_243 (MaxPooli  (None, 12, 12, 16)       0         \n",
      " ng2D)                                                           \n",
      "                                                                 \n",
      " conv2d_293 (Conv2D)         (None, 10, 10, 32)        4640      \n",
      "                                                                 \n",
      " max_pooling2d_244 (MaxPooli  (None, 5, 5, 32)         0         \n",
      " ng2D)                                                           \n",
      "                                                                 \n",
      " conv2d_294 (Conv2D)         (None, 3, 3, 64)          18496     \n",
      "                                                                 \n",
      " flatten_111 (Flatten)       (None, 576)               0         \n",
      "                                                                 \n",
      " dropout_110 (Dropout)       (None, 576)               0         \n",
      "                                                                 \n",
      " dense_111 (Dense)           (None, 5)                 2885      \n",
      "                                                                 \n",
      "=================================================================\n",
      "Total params: 26,437\n",
      "Trainable params: 26,437\n",
      "Non-trainable params: 0\n",
      "_________________________________________________________________\n"
     ]
    }
   ],
   "source": [
    "model_5_1 = keras.Sequential(\n",
    "    [\n",
    "        keras.Input(shape=input_shape),\n",
    "        layers.Conv2D(16, kernel_size=(5, 5), activation=\"relu\"),\n",
    "        layers.MaxPooling2D(pool_size=(2, 2)),\n",
    "        layers.Conv2D(32, kernel_size=(3, 3), activation=\"relu\"),\n",
    "        layers.MaxPooling2D(pool_size=(2, 2)),\n",
    "        layers.Conv2D(64, kernel_size=(3, 3), activation=\"relu\"),\n",
    "        layers.Flatten(),\n",
    "        layers.Dropout(0.5),\n",
    "        layers.Dense(5, activation=\"sigmoid\"),\n",
    "    ]\n",
    ")\n",
    "\n",
    "model_5_1.summary()"
   ]
  },
  {
   "cell_type": "code",
   "execution_count": 353,
   "id": "04b6d460-7e04-477b-b3bc-1b80fc626ac3",
   "metadata": {},
   "outputs": [
    {
     "name": "stdout",
     "output_type": "stream",
     "text": [
      "Epoch 1/15\n",
      "422/422 [==============================] - 2s 5ms/step - loss: -0.9918 - val_loss: -0.9950\n",
      "Epoch 2/15\n",
      "422/422 [==============================] - 2s 5ms/step - loss: -0.9921 - val_loss: -0.9947\n",
      "Epoch 3/15\n",
      "422/422 [==============================] - 2s 5ms/step - loss: -0.9925 - val_loss: -0.9953\n",
      "Epoch 4/15\n",
      "422/422 [==============================] - 2s 5ms/step - loss: -0.9924 - val_loss: -0.9949\n",
      "Epoch 5/15\n",
      "422/422 [==============================] - 2s 5ms/step - loss: -0.9930 - val_loss: -0.9954\n",
      "Epoch 6/15\n",
      "422/422 [==============================] - 2s 5ms/step - loss: -0.9932 - val_loss: -0.9953\n",
      "Epoch 7/15\n",
      "422/422 [==============================] - 2s 5ms/step - loss: -0.9933 - val_loss: -0.9954\n",
      "Epoch 8/15\n",
      "422/422 [==============================] - 2s 5ms/step - loss: -0.9934 - val_loss: -0.9953\n",
      "Epoch 9/15\n",
      "422/422 [==============================] - 2s 5ms/step - loss: -0.9937 - val_loss: -0.9956\n",
      "Epoch 10/15\n",
      "422/422 [==============================] - 2s 5ms/step - loss: -0.9939 - val_loss: -0.9956\n",
      "Epoch 11/15\n",
      "422/422 [==============================] - 2s 5ms/step - loss: -0.9942 - val_loss: -0.9955\n",
      "Epoch 12/15\n",
      "422/422 [==============================] - 2s 5ms/step - loss: -0.9945 - val_loss: -0.9954\n",
      "Epoch 13/15\n",
      "422/422 [==============================] - 2s 5ms/step - loss: -0.9943 - val_loss: -0.9956\n",
      "Epoch 14/15\n",
      "422/422 [==============================] - 2s 5ms/step - loss: -0.9942 - val_loss: -0.9961\n",
      "Epoch 15/15\n",
      "422/422 [==============================] - 2s 5ms/step - loss: -0.9949 - val_loss: -0.9960\n"
     ]
    },
    {
     "data": {
      "text/plain": [
       "<keras.callbacks.History at 0x1cd9b0f5820>"
      ]
     },
     "execution_count": 353,
     "metadata": {},
     "output_type": "execute_result"
    }
   ],
   "source": [
    "batch_size = 128\n",
    "epochs = 15\n",
    "\n",
    "model_5_1.compile(loss=\"cosine_similarity\", optimizer=\"adam\")\n",
    "\n",
    "model_5_1.fit(x_train, y_5_train, batch_size=batch_size, epochs=epochs, validation_split=0.1)"
   ]
  },
  {
   "cell_type": "code",
   "execution_count": 354,
   "id": "9de68ebc-8748-4531-b5b5-80bd9024c6db",
   "metadata": {},
   "outputs": [],
   "source": [
    "prediction = model_5_1.predict(x_test)"
   ]
  },
  {
   "cell_type": "code",
   "execution_count": 355,
   "id": "a1f2d617-eae2-430d-9035-5c90044ec70c",
   "metadata": {},
   "outputs": [
    {
     "name": "stdout",
     "output_type": "stream",
     "text": [
      "decoding error occured: 0 times\n",
      "accuracy:  0.992\n"
     ]
    }
   ],
   "source": [
    "prediction = np.round(prediction,2)\n",
    "ind_pred = np.argsort(prediction,axis=1)[:,-2:]\n",
    "norm_prediction = []\n",
    "number_decoding_errs = 0\n",
    "for y in ind_pred:\n",
    "    try:\n",
    "        t_y=tuple([1 if x in y else 0 for x in range(5)])\n",
    "        norm_prediction.append(dict5[t_y])\n",
    "    except:\n",
    "        number_decoding_errs+=1\n",
    "        norm_prediction.append(9)\n",
    "        \n",
    "print('decoding error occured: {} times'.format(number_decoding_errs))\n",
    "print('accuracy: ', sum([y == x for x, y in zip(norm_prediction, original_y_test)])/len(original_y_test))"
   ]
  },
  {
   "cell_type": "code",
   "execution_count": null,
   "id": "34429864-cc90-487c-ac42-c604b44e4826",
   "metadata": {},
   "outputs": [],
   "source": []
  },
  {
   "cell_type": "markdown",
   "id": "a4d122b5-73a0-4565-bbcf-82f1e7313967",
   "metadata": {},
   "source": [
    "# 10 neurons again"
   ]
  },
  {
   "cell_type": "code",
   "execution_count": 10,
   "id": "2075340b-ca08-4bd3-b071-c03735d28905",
   "metadata": {},
   "outputs": [
    {
     "name": "stdout",
     "output_type": "stream",
     "text": [
      "Model: \"sequential_4\"\n",
      "_________________________________________________________________\n",
      " Layer (type)                Output Shape              Param #   \n",
      "=================================================================\n",
      " conv2d_8 (Conv2D)           (None, 26, 26, 16)        160       \n",
      "                                                                 \n",
      " max_pooling2d_8 (MaxPooling  (None, 13, 13, 16)       0         \n",
      " 2D)                                                             \n",
      "                                                                 \n",
      " conv2d_9 (Conv2D)           (None, 11, 11, 64)        9280      \n",
      "                                                                 \n",
      " max_pooling2d_9 (MaxPooling  (None, 5, 5, 64)         0         \n",
      " 2D)                                                             \n",
      "                                                                 \n",
      " flatten_4 (Flatten)         (None, 1600)              0         \n",
      "                                                                 \n",
      " dropout_4 (Dropout)         (None, 1600)              0         \n",
      "                                                                 \n",
      " dense_4 (Dense)             (None, 10)                16010     \n",
      "                                                                 \n",
      "=================================================================\n",
      "Total params: 25,450\n",
      "Trainable params: 25,450\n",
      "Non-trainable params: 0\n",
      "_________________________________________________________________\n"
     ]
    }
   ],
   "source": [
    "model_10_2 = keras.Sequential(\n",
    "    [\n",
    "        keras.Input(shape=input_shape),\n",
    "        layers.Conv2D(16, kernel_size=(3, 3), activation=\"relu\"),\n",
    "        layers.MaxPooling2D(pool_size=(2, 2)),\n",
    "        layers.Conv2D(64, kernel_size=(3, 3), activation=\"relu\"),\n",
    "        layers.MaxPooling2D(pool_size=(2, 2)),\n",
    "        layers.Flatten(),\n",
    "        layers.Dropout(0.5),\n",
    "        layers.Dense(10, activation=\"sigmoid\"),\n",
    "    ]\n",
    ")\n",
    "\n",
    "model_10_2.summary()"
   ]
  },
  {
   "cell_type": "code",
   "execution_count": 7,
   "id": "43845045-bc7d-447c-857d-bab6df12bee7",
   "metadata": {},
   "outputs": [
    {
     "name": "stdout",
     "output_type": "stream",
     "text": [
      "Epoch 1/15\n",
      "422/422 [==============================] - 9s 6ms/step - loss: -0.8775 - accuracy: 0.8679 - val_loss: -0.9760 - val_accuracy: 0.9728\n",
      "Epoch 2/15\n",
      "422/422 [==============================] - 2s 5ms/step - loss: -0.9644 - accuracy: 0.9602 - val_loss: -0.9832 - val_accuracy: 0.9820\n",
      "Epoch 3/15\n",
      "422/422 [==============================] - 2s 5ms/step - loss: -0.9731 - accuracy: 0.9694 - val_loss: -0.9864 - val_accuracy: 0.9842\n",
      "Epoch 4/15\n",
      "422/422 [==============================] - 2s 5ms/step - loss: -0.9775 - accuracy: 0.9743 - val_loss: -0.9862 - val_accuracy: 0.9840\n",
      "Epoch 5/15\n",
      "422/422 [==============================] - 2s 5ms/step - loss: -0.9801 - accuracy: 0.9776 - val_loss: -0.9881 - val_accuracy: 0.9860\n",
      "Epoch 6/15\n",
      "422/422 [==============================] - 2s 5ms/step - loss: -0.9820 - accuracy: 0.9794 - val_loss: -0.9890 - val_accuracy: 0.9865\n",
      "Epoch 7/15\n",
      "422/422 [==============================] - 2s 5ms/step - loss: -0.9837 - accuracy: 0.9811 - val_loss: -0.9896 - val_accuracy: 0.9877\n",
      "Epoch 8/15\n",
      "422/422 [==============================] - 2s 5ms/step - loss: -0.9845 - accuracy: 0.9823 - val_loss: -0.9908 - val_accuracy: 0.9898\n",
      "Epoch 9/15\n",
      "422/422 [==============================] - 2s 5ms/step - loss: -0.9854 - accuracy: 0.9833 - val_loss: -0.9911 - val_accuracy: 0.9893\n",
      "Epoch 10/15\n",
      "422/422 [==============================] - 2s 5ms/step - loss: -0.9862 - accuracy: 0.9843 - val_loss: -0.9907 - val_accuracy: 0.9887\n",
      "Epoch 11/15\n",
      "422/422 [==============================] - 2s 5ms/step - loss: -0.9871 - accuracy: 0.9852 - val_loss: -0.9910 - val_accuracy: 0.9888\n",
      "Epoch 12/15\n",
      "422/422 [==============================] - 2s 5ms/step - loss: -0.9873 - accuracy: 0.9853 - val_loss: -0.9922 - val_accuracy: 0.9912\n",
      "Epoch 13/15\n",
      "422/422 [==============================] - 2s 5ms/step - loss: -0.9880 - accuracy: 0.9860 - val_loss: -0.9912 - val_accuracy: 0.9902\n",
      "Epoch 14/15\n",
      "422/422 [==============================] - 2s 5ms/step - loss: -0.9888 - accuracy: 0.9869 - val_loss: -0.9930 - val_accuracy: 0.9918\n",
      "Epoch 15/15\n",
      "422/422 [==============================] - 2s 5ms/step - loss: -0.9892 - accuracy: 0.9877 - val_loss: -0.9918 - val_accuracy: 0.9905\n"
     ]
    },
    {
     "data": {
      "text/plain": [
       "<keras.callbacks.History at 0x1ac41759700>"
      ]
     },
     "execution_count": 7,
     "metadata": {},
     "output_type": "execute_result"
    }
   ],
   "source": [
    "batch_size = 128\n",
    "epochs = 15\n",
    "\n",
    "model_10_2.compile(loss=\"cosine_similarity\", optimizer=\"adam\", metrics=[\"accuracy\"])\n",
    "\n",
    "model_10_2.fit(x_train, y_train, batch_size=batch_size, epochs=epochs, validation_split=0.1)"
   ]
  },
  {
   "cell_type": "code",
   "execution_count": 282,
   "id": "1b9e9cf4-8175-4541-bcfe-9e59d54db431",
   "metadata": {},
   "outputs": [
    {
     "name": "stdout",
     "output_type": "stream",
     "text": [
      "Test loss: -0.9909372329711914\n",
      "Test accuracy: 0.9890000224113464\n"
     ]
    }
   ],
   "source": [
    "score = model_10_2.evaluate(x_test, y_test, verbose=0)\n",
    "print(\"Test loss:\", score[0])\n",
    "print(\"Test accuracy:\", score[1])"
   ]
  },
  {
   "cell_type": "code",
   "execution_count": 9,
   "id": "179f4c9d-de57-47e3-acd4-18f43509eeb3",
   "metadata": {},
   "outputs": [
    {
     "name": "stdout",
     "output_type": "stream",
     "text": [
      "Model: \"sequential_3\"\n",
      "_________________________________________________________________\n",
      " Layer (type)                Output Shape              Param #   \n",
      "=================================================================\n",
      " conv2d_6 (Conv2D)           (None, 26, 26, 8)         80        \n",
      "                                                                 \n",
      " max_pooling2d_6 (MaxPooling  (None, 13, 13, 8)        0         \n",
      " 2D)                                                             \n",
      "                                                                 \n",
      " conv2d_7 (Conv2D)           (None, 11, 11, 16)        1168      \n",
      "                                                                 \n",
      " max_pooling2d_7 (MaxPooling  (None, 5, 5, 16)         0         \n",
      " 2D)                                                             \n",
      "                                                                 \n",
      " flatten_3 (Flatten)         (None, 400)               0         \n",
      "                                                                 \n",
      " dropout_3 (Dropout)         (None, 400)               0         \n",
      "                                                                 \n",
      " dense_3 (Dense)             (None, 10)                4010      \n",
      "                                                                 \n",
      "=================================================================\n",
      "Total params: 5,258\n",
      "Trainable params: 5,258\n",
      "Non-trainable params: 0\n",
      "_________________________________________________________________\n"
     ]
    }
   ],
   "source": [
    "model_10_3 = keras.Sequential(\n",
    "    [\n",
    "        keras.Input(shape=input_shape),\n",
    "        layers.Conv2D(8, kernel_size=(3, 3), activation=\"relu\"),\n",
    "        layers.MaxPooling2D(pool_size=(2, 2)),\n",
    "        layers.Conv2D(16, kernel_size=(3, 3), activation=\"relu\"),\n",
    "        layers.MaxPooling2D(pool_size=(2, 2)),\n",
    "        layers.Flatten(),\n",
    "        layers.Dropout(0.5),\n",
    "        layers.Dense(10, activation=\"sigmoid\"),\n",
    "    ]\n",
    ")\n",
    "\n",
    "model_10_3.summary()"
   ]
  },
  {
   "cell_type": "code",
   "execution_count": 11,
   "id": "3c472dd0-eb78-4375-85d7-e335ad1967b4",
   "metadata": {},
   "outputs": [
    {
     "name": "stdout",
     "output_type": "stream",
     "text": [
      "Epoch 1/15\n",
      "422/422 [==============================] - 2s 5ms/step - loss: -0.8769 - accuracy: 0.8643 - val_loss: -0.9751 - val_accuracy: 0.9730\n",
      "Epoch 2/15\n",
      "422/422 [==============================] - 2s 5ms/step - loss: -0.9633 - accuracy: 0.9583 - val_loss: -0.9813 - val_accuracy: 0.9777\n",
      "Epoch 3/15\n",
      "422/422 [==============================] - 2s 6ms/step - loss: -0.9722 - accuracy: 0.9689 - val_loss: -0.9850 - val_accuracy: 0.9832\n",
      "Epoch 4/15\n",
      "422/422 [==============================] - 2s 6ms/step - loss: -0.9759 - accuracy: 0.9725 - val_loss: -0.9874 - val_accuracy: 0.9867\n",
      "Epoch 5/15\n",
      "422/422 [==============================] - 2s 6ms/step - loss: -0.9790 - accuracy: 0.9761 - val_loss: -0.9889 - val_accuracy: 0.9877\n",
      "Epoch 6/15\n",
      "422/422 [==============================] - 2s 6ms/step - loss: -0.9804 - accuracy: 0.9777 - val_loss: -0.9897 - val_accuracy: 0.9878\n",
      "Epoch 7/15\n",
      "422/422 [==============================] - 2s 6ms/step - loss: -0.9827 - accuracy: 0.9804 - val_loss: -0.9905 - val_accuracy: 0.9885\n",
      "Epoch 8/15\n",
      "422/422 [==============================] - 2s 6ms/step - loss: -0.9834 - accuracy: 0.9809 - val_loss: -0.9906 - val_accuracy: 0.9887\n",
      "Epoch 9/15\n",
      "422/422 [==============================] - 2s 6ms/step - loss: -0.9852 - accuracy: 0.9831 - val_loss: -0.9900 - val_accuracy: 0.9883\n",
      "Epoch 10/15\n",
      "422/422 [==============================] - 2s 6ms/step - loss: -0.9855 - accuracy: 0.9836 - val_loss: -0.9919 - val_accuracy: 0.9913\n",
      "Epoch 11/15\n",
      "422/422 [==============================] - 2s 5ms/step - loss: -0.9862 - accuracy: 0.9839 - val_loss: -0.9916 - val_accuracy: 0.9908\n",
      "Epoch 12/15\n",
      "422/422 [==============================] - 2s 5ms/step - loss: -0.9867 - accuracy: 0.9847 - val_loss: -0.9912 - val_accuracy: 0.9905\n",
      "Epoch 13/15\n",
      "422/422 [==============================] - 2s 5ms/step - loss: -0.9873 - accuracy: 0.9853 - val_loss: -0.9915 - val_accuracy: 0.9903\n",
      "Epoch 14/15\n",
      "422/422 [==============================] - 2s 6ms/step - loss: -0.9875 - accuracy: 0.9857 - val_loss: -0.9927 - val_accuracy: 0.9920\n",
      "Epoch 15/15\n",
      "422/422 [==============================] - 2s 6ms/step - loss: -0.9884 - accuracy: 0.9868 - val_loss: -0.9926 - val_accuracy: 0.9913\n"
     ]
    },
    {
     "data": {
      "text/plain": [
       "<keras.callbacks.History at 0x1ac44bc3730>"
      ]
     },
     "execution_count": 11,
     "metadata": {},
     "output_type": "execute_result"
    }
   ],
   "source": [
    "batch_size = 128\n",
    "epochs = 15\n",
    "\n",
    "model_10_2.compile(loss=\"cosine_similarity\", optimizer=\"adam\", metrics=[\"accuracy\"])\n",
    "\n",
    "model_10_2.fit(x_train, y_train, batch_size=batch_size, epochs=epochs, validation_split=0.1)"
   ]
  },
  {
   "cell_type": "code",
   "execution_count": null,
   "id": "b0e8fe00-cd92-426f-b3b8-0666cb536578",
   "metadata": {},
   "outputs": [],
   "source": []
  },
  {
   "cell_type": "code",
   "execution_count": null,
   "id": "3ee78099-f05f-4726-8d01-dd3cfb2c147c",
   "metadata": {},
   "outputs": [],
   "source": []
  },
  {
   "cell_type": "code",
   "execution_count": null,
   "id": "4ba074db-bf08-43f5-b849-f6e492cf8e15",
   "metadata": {},
   "outputs": [],
   "source": []
  },
  {
   "cell_type": "code",
   "execution_count": null,
   "id": "d723d76f-d5f5-4df9-8d51-78e7ee63533c",
   "metadata": {},
   "outputs": [],
   "source": []
  },
  {
   "cell_type": "markdown",
   "id": "defdc179-c921-4bcb-845f-f482f1a49735",
   "metadata": {},
   "source": [
    "# Visual"
   ]
  },
  {
   "cell_type": "code",
   "execution_count": 360,
   "id": "42a17167-f767-44ed-bc9e-09f2e8783666",
   "metadata": {},
   "outputs": [],
   "source": [
    "import visualkeras"
   ]
  },
  {
   "cell_type": "code",
   "execution_count": 361,
   "id": "f02c3d1c-4371-4e29-a71d-8be447a49c8b",
   "metadata": {},
   "outputs": [
    {
     "data": {
      "image/png": "[encoded data removed]",
      "text/plain": [
       "<PIL.Image.Image image mode=RGBA size=346x190 at 0x1CD9A85DD30>"
      ]
     },
     "execution_count": 361,
     "metadata": {},
     "output_type": "execute_result"
    }
   ],
   "source": [
    "visualkeras.layered_view(model_4_3,legend=True)"
   ]
  },
  {
   "cell_type": "markdown",
   "id": "1326b900-a832-44ed-872a-e64cba7dc493",
   "metadata": {},
   "source": [
    "# from keras_visualizer import visualizer "
   ]
  },
  {
   "cell_type": "code",
   "execution_count": 395,
   "id": "b67f1bcd-7b59-41f0-ab4c-8dd8a1b98ac4",
   "metadata": {},
   "outputs": [
    {
     "name": "stdout",
     "output_type": "stream",
     "text": [
      "Model: \"sequential_126\"\n",
      "_________________________________________________________________\n",
      " Layer (type)                Output Shape              Param #   \n",
      "=================================================================\n",
      " flatten_118 (Flatten)       (None, 784)               0         \n",
      "                                                                 \n",
      " dense_150 (Dense)           (None, 100)               78500     \n",
      "                                                                 \n",
      " dense_151 (Dense)           (None, 50)                5050      \n",
      "                                                                 \n",
      " dense_152 (Dense)           (None, 10)                510       \n",
      "                                                                 \n",
      "=================================================================\n",
      "Total params: 84,060\n",
      "Trainable params: 84,060\n",
      "Non-trainable params: 0\n",
      "_________________________________________________________________\n"
     ]
    }
   ],
   "source": [
    "model_100_50_10 = keras.Sequential(\n",
    "    [\n",
    "        keras.Input(shape=input_shape),\n",
    "        layers.Flatten(),\n",
    "        layers.Dense(100, activation=\"sigmoid\"),\n",
    "        layers.Dense(50, activation=\"sigmoid\"),\n",
    "        layers.Dense(10, activation=\"sigmoid\"),\n",
    "    ]\n",
    ")\n",
    "\n",
    "model_100_50_10.summary()"
   ]
  },
  {
   "cell_type": "code",
   "execution_count": 389,
   "id": "d09dd7ae-8d42-4b76-8332-9b4afb1b279f",
   "metadata": {},
   "outputs": [],
   "source": [
    "visualizer(model_100_50_10, format='png', view=True)\n"
   ]
  },
  {
   "cell_type": "code",
   "execution_count": 396,
   "id": "35de72aa-59ae-46fb-83a0-bb8bc6c22241",
   "metadata": {},
   "outputs": [
    {
     "name": "stdout",
     "output_type": "stream",
     "text": [
      "Model: \"sequential_127\"\n",
      "_________________________________________________________________\n",
      " Layer (type)                Output Shape              Param #   \n",
      "=================================================================\n",
      " flatten_119 (Flatten)       (None, 784)               0         \n",
      "                                                                 \n",
      " dense_153 (Dense)           (None, 100)               78500     \n",
      "                                                                 \n",
      " dense_154 (Dense)           (None, 50)                5050      \n",
      "                                                                 \n",
      " dense_155 (Dense)           (None, 4)                 204       \n",
      "                                                                 \n",
      "=================================================================\n",
      "Total params: 83,754\n",
      "Trainable params: 83,754\n",
      "Non-trainable params: 0\n",
      "_________________________________________________________________\n"
     ]
    }
   ],
   "source": [
    "model_100_50_10 = keras.Sequential(\n",
    "    [\n",
    "        keras.Input(shape=input_shape),\n",
    "        layers.Flatten(),\n",
    "        layers.Dense(100, activation=\"sigmoid\"),\n",
    "        layers.Dense(50, activation=\"sigmoid\"),\n",
    "        layers.Dense(4, activation=\"sigmoid\"),\n",
    "    ]\n",
    ")\n",
    "\n",
    "model_100_50_10.summary()"
   ]
  },
  {
   "cell_type": "code",
   "execution_count": null,
   "id": "2918fd2b-8e04-48f8-88a8-8f0bbeec4e1e",
   "metadata": {},
   "outputs": [],
   "source": []
  },
  {
   "cell_type": "code",
   "execution_count": null,
   "id": "62e83f53-6462-4bb7-b211-bc0275f8a029",
   "metadata": {},
   "outputs": [],
   "source": []
  },
  {
   "cell_type": "code",
   "execution_count": null,
   "id": "71d29807-b2b1-49b9-b988-d3aaf9e8a485",
   "metadata": {},
   "outputs": [],
   "source": []
  }
 ],
 "metadata": {
  "kernelspec": {
   "display_name": "Python 3",
   "language": "python",
   "name": "python3"
  },
  "language_info": {
   "codemirror_mode": {
    "name": "ipython",
    "version": 3
   },
   "file_extension": ".py",
   "mimetype": "text/x-python",
   "name": "python",
   "nbconvert_exporter": "python",
   "pygments_lexer": "ipython3",
   "version": "3.8.8"
  }
 },
 "nbformat": 4,
 "nbformat_minor": 5
}
